{
  "nbformat": 4,
  "nbformat_minor": 0,
  "metadata": {
    "colab": {
      "provenance": []
    },
    "kernelspec": {
      "name": "python3",
      "display_name": "Python 3"
    },
    "language_info": {
      "name": "python"
    }
  },
  "cells": [
    {
      "cell_type": "markdown",
      "source": [
        "# 1. What is the difference between interpreted and complied languages?\n",
        ". Compiled languages are translated into machine code before execution, creating a separate executable file that runs directly on the hardware, which generally leads to faster performance. Interpreted languages are executed line by line by an interpreter program at runtime, without a prior compilation step, which can make development and debugging faster but results in slower performance.\n",
        "\n",
        ". Compiled languages\n",
        "\n",
        " Process: Source code is fully translated into machine-readable code (like an executable) before the program is run.\n",
        "\n",
        " Execution: The resulting machine code can be executed directly by the computer's CPU.\n",
        "\n",
        " Performance: Generally faster because the translation happens only once.  \n",
        "\n",
        " Example: C, C++.\n",
        "\n",
        ". Interpreted languages\n",
        "\n",
        " Process: An interpreter reads the source code and executes it line by line, translating and running each instruction as it goes.\n",
        "\n",
        " Execution: Requires an interpreter program to be present on the machine to run the code.\n",
        "\n",
        " Performance: Slower than compiled languages because the code is translated during execution.\n",
        "  \n",
        " Example: Python, JavaScript"
      ],
      "metadata": {
        "id": "olb6Yks61w2z"
      }
    },
    {
      "cell_type": "markdown",
      "source": [
        "## 2.What is exception handling in python?\n",
        ". Exception handling in Python is a mechanism to gracefully manage runtime errors, known as exceptions, that interrupt the normal flow of program execution. It allows you to anticipate potential issues (like division by zero, file not found, or invalid input), catch them using try and except blocks, and then execute specific code to handle the error or provide informative feedback, preventing the program from crashing abruptly. Optional else and finally blocks can be used for code that runs only if no exception occurs, or code that must always execute, respectively."
      ],
      "metadata": {
        "id": "6GvwRv3B3H73"
      }
    },
    {
      "cell_type": "markdown",
      "source": [
        "# 3 . What is the purpose of the finally block in exception handling?\n",
        ". The finally block is used to execute code that must run regardless of whether an exception is thrown or caught. Its main purpose is to perform essential cleanup tasks.\n",
        "\n",
        ".Key purposes of a finally block\n",
        "\n",
        " Guaranteed execution: It ensures that specific code is always executed, even if a try block completes normally, an exception is handled by a catch block, or an unhandled exception occurs.\n",
        "\n",
        " Resource cleanup: It is the ideal place for performing cleanup operations, such as closing files, releasing network connections, or disconnecting from a database.\n",
        "\n",
        " Prevents resource leaks: Placing resource-releasing code here ensures that even if an exception occurs, the resource is properly freed and does not result in a memory leak.\n",
        "\n",
        " Finalization: It provides a reliable way to perform final actions, maintaining the program's integrity and consistent state."
      ],
      "metadata": {
        "id": "EzzCE-Ho3oj1"
      }
    },
    {
      "cell_type": "markdown",
      "source": [
        "# 4 .What is logging in python?\n",
        " . Logging in Python is a built-in framework for tracking events that happen when your code runs. It provides a powerful and structured way to record status messages, errors, and debugging information for later analysis"
      ],
      "metadata": {
        "id": "OGFEF2qo4kFy"
      }
    },
    {
      "cell_type": "markdown",
      "source": [
        "# 5.What is the significance of the _ _del_ _ method in python?\n",
        ". The __del__ method in Python, also known as the destructor, holds significance in the following ways:\n",
        "\n",
        " Resource Cleanup: It allows for the release of resources held by an object when it is about to be destroyed, such as closing files, network connections, or releasing locks.\n",
        "\n",
        " Destructor Behavior: It defines custom actions to be performed automatically by the Python interpreter just before an object's memory is deallocated.\n",
        "\n",
        " Debugging: It can be used for debugging purposes, for example, to track object destruction and identify potential memory leaks, although its timing is not guaranteed."
      ],
      "metadata": {
        "id": "tat3AJlR44ic"
      }
    },
    {
      "cell_type": "markdown",
      "source": [
        "# 6. What is the different between import and from _import in python?\n",
        ". The primary difference is how the imported code is accessed and which names are added to your program's local namespace.\n",
        "\n",
        ".import module\n",
        " Imports: The entire module.\n",
        "\n",
        " Usage: You must prefix all calls with the module name. For example, math.sqrt().\n",
        "\n",
        " Effect on namespace: Adds the module's name to your local namespace, keeping its contents organized within that module's scope. This reduces the risk of name conflicts."
      ],
      "metadata": {
        "id": "pfRpK1Bn5261"
      }
    },
    {
      "cell_type": "code",
      "source": [
        "import math\n",
        "\n",
        "print(math.pi)\n",
        "print(math.sqrt(25))\n"
      ],
      "metadata": {
        "colab": {
          "base_uri": "https://localhost:8080/"
        },
        "id": "0dLhTWwX661y",
        "outputId": "db24c93f-2bd1-4ea9-efcc-6867571be6b9"
      },
      "execution_count": null,
      "outputs": [
        {
          "output_type": "stream",
          "name": "stdout",
          "text": [
            "3.141592653589793\n",
            "5.0\n"
          ]
        }
      ]
    },
    {
      "cell_type": "markdown",
      "source": [
        ".from module import object\n",
        " Imports: Only the specified object(s) (e.g., functions, classes, or variables) from the module.\n",
        "\n",
        " Usage: You can call the imported objects directly without the module name prefix. For example, sqrt().\n",
        "\n",
        " Effect on namespace: Adds only the imported object names directly into your local namespace. This can cause name clashes if you import multiple objects with the same name from different modules."
      ],
      "metadata": {
        "id": "9E8ja65L7F2B"
      }
    },
    {
      "cell_type": "code",
      "source": [
        "from math import pi, sqrt\n",
        "\n",
        "print(pi)\n",
        "print(sqrt(25))\n"
      ],
      "metadata": {
        "colab": {
          "base_uri": "https://localhost:8080/"
        },
        "id": "dkmbE9eW7NDg",
        "outputId": "d1efbbf9-e58a-4dc1-ed06-7fbe7d8848d4"
      },
      "execution_count": null,
      "outputs": [
        {
          "output_type": "stream",
          "name": "stdout",
          "text": [
            "3.141592653589793\n",
            "5.0\n"
          ]
        }
      ]
    },
    {
      "cell_type": "markdown",
      "source": [
        "# 7.How can you handle multiple exceptions in python?\n",
        ". Handling multiple exceptions in Python can be done in two main ways:\n",
        "\n",
        " Multiple except blocks: Use separate except blocks for each specific exception you want to handle differently.\n"
      ],
      "metadata": {
        "id": "U6IS-EEN7SYn"
      }
    },
    {
      "cell_type": "code",
      "source": [
        "try:\n",
        "    # Code that might raise exceptions\n",
        "    pass # Added a placeholder comment here\n",
        "except ValueError:\n",
        "    # Handle ValueError\n",
        "    pass # Added a placeholder comment here\n",
        "except TypeError:\n",
        "    # Handle TypeError\n",
        "    pass # Added a placeholder comment here"
      ],
      "metadata": {
        "id": "Jh_989u67v3P"
      },
      "execution_count": null,
      "outputs": []
    },
    {
      "cell_type": "markdown",
      "source": [
        ". Single except block with a tuple: Catch multiple exceptions in a single except block by providing a tuple of exception types. This is useful when you want to handle several exceptions in the same way."
      ],
      "metadata": {
        "id": "Kr8Sag2476Zm"
      }
    },
    {
      "cell_type": "code",
      "source": [
        "try:\n",
        "    # Code that might raise exceptions\n",
        "    pass # Added a placeholder comment here\n",
        "except (ValueError, TypeError) as e:\n",
        "    # Handle either ValueError or TypeError\n",
        "    print(f\"An error occurred: {e}\")"
      ],
      "metadata": {
        "id": "p33a1Nyp8Ap-"
      },
      "execution_count": null,
      "outputs": []
    },
    {
      "cell_type": "markdown",
      "source": [
        "# 8. What is the purpose of the with statement when handling files in python?\n",
        ". The with statement in Python, when used with files, ensures that the file is automatically and properly closed after its block of code is executed, even if errors occur. This prevents resource leaks and simplifies error handling compared to manual open() and close() calls, especially when using try-finally blocks. It leverages the context manager protocol to manage resource acquisition and release."
      ],
      "metadata": {
        "id": "u7G7Ivx08Jf9"
      }
    },
    {
      "cell_type": "markdown",
      "source": [
        "# 9. What is the difference between multithreading and multiprocessing?\n",
        "Multiprocessing uses multiple CPU cores to run independent processes simultaneously, achieving true parallelism. Multithreading runs multiple threads concurrently within a single process, typically using only one CPU core at a time due to shared memory.\n",
        "\n",
        ".Multithreading:\n",
        " Multiple threads run concurrently within a single process.\n",
        "\n",
        " All threads share the same memory space of their parent process.\n",
        "\n",
        " Straightforward and fast because threads can access shared data directly.\n",
        "\n",
        " Best for I/O-bound tasks that involve waiting, like network requests or file I/O.Low, as a failure in one thread can corrupt the shared memory and crash the entire process.\n",
        "\n",
        ".Multiprocessing\n",
        " Multiple, independent processes run in parallel on multiple CPU cores.\n",
        "\n",
        " High overhead for creating and managing processes due to resource allocation and separate memory spaces.\n",
        "\n",
        " More complex, as inter-process communication (IPC) mechanisms like pipes and queues are needed.\n",
        "\n",
        " Best for CPU-bound tasks, such as complex calculations or data processing.High, as the failure of one process does not affect others."
      ],
      "metadata": {
        "id": "KZIVGieE8sjs"
      }
    },
    {
      "cell_type": "markdown",
      "source": [
        "# 10.What are the advantages of using logging in a program?\n",
        ".Using logging in a program is beneficial for debugging, monitoring performance, and providing an audit trail. It helps developers and operators understand the application's behavior and diagnose problems effectively, especially in production environments where a debugger cannot be used."
      ],
      "metadata": {
        "id": "xrB0WGy2-Xb2"
      }
    },
    {
      "cell_type": "markdown",
      "source": [
        "#11.What is memory managment important in python?\n",
        ". Memory management is important in Python because it automates the allocation and deallocation of memory, which prevents memory leaks and ensures programs run efficiently. This hands-off approach lets developers focus on writing code rather than manually managing memory."
      ],
      "metadata": {
        "id": "rhju9-h0-0k0"
      }
    },
    {
      "cell_type": "markdown",
      "source": [
        "#12.what are the basic steps involved in exception handling in python?\n",
        ". The basic steps for handling exceptions in Python involve using try, except, and optionally else and finally blocks.\n",
        "\n",
        "try: A try block contains the code that might cause an error or raise an exception.\n",
        "\n",
        "except: An except block catches and handles the exception if it occurs in the try block. You can specify the type of exception to catch, or handle multiple exceptions with multiple except clauses.\n",
        "\n",
        "else (Optional): An else block executes only if the code in the try block runs without any exceptions.\n",
        "\n",
        "finally (Optional): A finally block runs regardless of whether an exception occurred or not. It is typically used for cleanup actions, like closing files or releasing resources."
      ],
      "metadata": {
        "id": "OD0DHtt__Om6"
      }
    },
    {
      "cell_type": "markdown",
      "source": [
        "# 13. Why is memory management important in python?\n",
        ". Memory management is important in Python because it directly impacts application performance, scalability, and stability, especially when dealing with large datasets. While Python's internal memory manager automates the process, understanding it helps you write more efficient code."
      ],
      "metadata": {
        "id": "W0TcGgHY_92w"
      }
    },
    {
      "cell_type": "markdown",
      "source": [
        "# 14. What is the role of try and except in exception handling?\n",
        ". try and except blocks are used for exception handling, allowing a program to manage runtime errors gracefully instead of crashing.\n",
        "\n",
        ".try\n",
        "\n",
        " The try block contains the code that might cause an error or raise an exception.\n",
        "\n",
        " The program first attempts to execute the code within this block.\n",
        "\n",
        " If no exceptions occur, the except block is skipped.\n",
        "\n",
        ".except\n",
        "\n",
        " The except block contains the code that executes if an error is detected in the corresponding try block.\n",
        "\n",
        " It \"catches\" and handles the error, preventing the program from terminating.\n",
        "\n",
        " You can specify different except blocks to handle various types of exceptions in different ways."
      ],
      "metadata": {
        "id": "LJigkqZNAaiu"
      }
    },
    {
      "cell_type": "markdown",
      "source": [
        "# 15. How does python's garbage collection system work?\n",
        ".Python's garbage collection system primarily uses two mechanisms:\n",
        "\n",
        ". Reference Counting:\n",
        "\n",
        " Each object in Python has a reference count, which tracks the number of references pointing to it. When an object's reference count drops to zero, it means no variables or other objects are referencing it, and the object is immediately deallocated, freeing up its memory.\n",
        "\n",
        ".Generational Cyclic Garbage Collector:\n",
        "\n",
        "  Reference counting cannot handle circular references (where objects reference each other, preventing their reference counts from ever reaching zero). For these cases, Python employs a generational cyclic garbage collector. This collector periodically identifies and collects unreachable objects involved in reference cycles. It organizes objects into \"generations\" (youngest to oldest) and primarily focuses on collecting from younger generations more frequently, as newer objects are more likely to become unreachable."
      ],
      "metadata": {
        "id": "KX9YS6RoBPFs"
      }
    },
    {
      "cell_type": "markdown",
      "source": [
        "# 16. What is the purpose of the else block in exception handling?\n",
        ".The else block in exception handling executes code only when no exceptions are raised in the preceding try block. It helps keep the \"successful execution\" code separate from the error-handling logic.\n",
        "Key purposes"
      ],
      "metadata": {
        "id": "5Ipg77JDB-aC"
      }
    },
    {
      "cell_type": "markdown",
      "source": [
        "# 17.what are the common logging levels in python?\n",
        ".The Python logging module has five standard logging levels, listed in order of increasing severity:\n",
        "\n",
        " DEBUG: Detailed information, valuable primarily when diagnosing a problem.\n",
        " INFO: Confirmation that things are working as expected.\n",
        "\n",
        " WARNING: An unexpected event or potential problem, but the software is still working. This is the default logging level if not otherwise configured.\n",
        "\n",
        " ERROR: Due to a serious problem, the software was unable to perform some function.\n",
        "\n",
        " CRITICAL: A serious error indicating the program may be unable to continue running."
      ],
      "metadata": {
        "id": "70p0E33vChGQ"
      }
    },
    {
      "cell_type": "markdown",
      "source": [
        "# 18. What is the different between as.fork() and multiprocessing in python?\n",
        ". The core difference between os.fork() and Python's multiprocessing module lies in their level of abstraction and portability:\n",
        "\n",
        ".os.fork():\n",
        " This is a low-level, system-specific function (available on POSIX systems like Linux/macOS) that directly creates a child process as an exact copy of the parent process at the time of the fork. It provides fine-grained control but requires manual handling of inter-process communication (IPC) and resource management.\n",
        "\n",
        ".multiprocessing module:\n",
        " This is a higher-level, platform-independent module that provides a more convenient and robust way to manage processes. It uses os.fork() internally on POSIX systems (as one of its \"start methods,\" now not the default) but abstracts away the complexities of process creation, communication, and synchronization, offering tools like Process objects, Pools, Queues, and Pipes. It also provides alternative start methods like spawn and forkserver for enhanced safety and portability across different operating systems, including Windows where os.fork() is not available."
      ],
      "metadata": {
        "id": "RGaIEQXNDOLu"
      }
    },
    {
      "cell_type": "markdown",
      "source": [
        "# 19.What is the importance of closing a file in python?\n",
        ". Closing a file in Python is important for the following reasons:\n",
        "\n",
        " Ensures data is saved:\n",
        "   Writing data to a file often happens in a temporary memory buffer. Calling close() forces any unsaved data to be \"flushed\" or written permanently to the file on disk.\n",
        "\n",
        " Frees up system resources:\n",
        "  An open file consumes a limited system resource called a file handle. Failing to close files can lead to a \"too many open files\" error, which can cause your program to crash.\n",
        "\n",
        " Prevents data corruption:\n",
        "  In the case of an unexpected crash, an improperly closed file may become corrupted, resulting in data loss.\n",
        "\n",
        " Allows access for other programs:\n",
        "  On some operating systems, a file that is open in one program is locked and cannot be accessed by other programs. Closing it releases this lock.\n",
        "\n",
        " Good programming practice:\n",
        "  It is a standard and safe practice to explicitly close files, or use a with statement, to avoid relying on the operating system or Python's garbage collector to do it for you later."
      ],
      "metadata": {
        "id": "km5qhvp5D9vF"
      }
    },
    {
      "cell_type": "markdown",
      "source": [
        "# 20. What is the difference between file.read() and filereadline() in python?\n",
        ". file.read():\n",
        " Reads and returns the entire content of the file as a single string. If a size argument is provided, it reads up to that many bytes/characters.\n",
        "\n",
        " file.readline():\n",
        "  Reads and returns a single line from the file, including the newline character, as a string. Each subsequent call reads the next line."
      ],
      "metadata": {
        "id": "17ItFgHbEvuo"
      }
    },
    {
      "cell_type": "markdown",
      "source": [
        "# 21. What is the logging module in python used for?\n",
        ".The Python logging module is used to record events and status messages that occur while a program is running. This information can be used for debugging, monitoring, and understanding the application's behavior. It is a more robust and flexible alternative to using print() statements."
      ],
      "metadata": {
        "id": "-3rWNEPGFXU3"
      }
    },
    {
      "cell_type": "markdown",
      "source": [
        "# 22.What is the as module in python used for in file handling?\n",
        ". In Python, the as keyword in file handling is primarily used with the with statement to create a context manager for handling files. It assigns a temporary variable name (an alias) to the file object returned by open(), ensuring the file is properly closed automatically when the with block is exited."
      ],
      "metadata": {
        "id": "MB5diWgWFsm1"
      }
    },
    {
      "cell_type": "markdown",
      "source": [
        "# 23. what are the challenges associated with memory management in python?\n",
        ".Challenges with Python's memory management include memory leaks from cyclic references, significant memory overhead, and unpredictable garbage collection pauses that can affect performance."
      ],
      "metadata": {
        "id": "JfI8HKKcGLAL"
      }
    },
    {
      "cell_type": "markdown",
      "source": [
        "# 24. How do you raise an exception manually in python?\n",
        ".To raise an exception manually in Python, use the raise keyword. You can follow it with a specific exception type and an optional error message.\n",
        "Syntax\n",
        "raise ExceptionType(\"An optional error message\")"
      ],
      "metadata": {
        "id": "kKjYzJWtGz_J"
      }
    },
    {
      "cell_type": "markdown",
      "source": [
        "# 25. Why is it important to use multithreading in certain applications?\n",
        ".Using multithreading is important in applications that require high performance and responsiveness, especially on systems with multiple processors. By allowing parts of a program to run concurrently, it provides several key benefits."
      ],
      "metadata": {
        "id": "423JbaztHZFQ"
      }
    },
    {
      "cell_type": "markdown",
      "source": [
        "# practices\n"
      ],
      "metadata": {
        "id": "SsjuJt5SH-kl"
      }
    },
    {
      "cell_type": "code",
      "source": [
        "# 1. How can you open a file for writing in python and write a string to it?\n",
        "#python\n",
        "# Open the file in write mode ('w').\n",
        "# If the file exists, its content will be overwritten.\n",
        "# If the file does not exist, a new one will be created.\n",
        "with open(\"my_file.txt\", \"w\") as file:\n",
        "    # Write a string to the file.\n",
        "    file.write(\"This is the string I want to write to the file.\\n\")\n",
        "    file.write(\"This is another line of text.\")\n",
        "\n",
        "print(\"String successfully written to my_file.txt\")"
      ],
      "metadata": {
        "colab": {
          "base_uri": "https://localhost:8080/"
        },
        "id": "wFLXrC7BICIl",
        "outputId": "972a3acc-4a5e-411f-d724-44ae7e862ed9"
      },
      "execution_count": null,
      "outputs": [
        {
          "output_type": "stream",
          "name": "stdout",
          "text": [
            "String successfully written to my_file.txt\n"
          ]
        }
      ]
    },
    {
      "cell_type": "code",
      "source": [
        "# 2.write a python program to read the contents of a file and print each line?\n",
        "#python\n",
        "def print_file_contents(filename):\n",
        "    \"\"\"\n",
        "    Reads a file line by line and prints each line to the console.\n",
        "    \"\"\"\n",
        "    try:\n",
        "        with open(filename, 'r') as file:\n",
        "            for line in file:\n",
        "                print(line.strip())  # .strip() removes leading/trailing whitespace, including newlines\n",
        "    except FileNotFoundError:\n",
        "        print(f\"Error: The file '{filename}' was not found.\")\n",
        "    except Exception as e:\n",
        "        print(f\"An unexpected error occurred: {e}\")\n",
        "\n",
        "# Example usage:\n",
        "if __name__ == \"__main__\":\n",
        "    file_to_read = \"my_example_file.txt\"  # Replace with your file name\n",
        "\n",
        "    # Create a dummy file for demonstration purposes if it doesn't exist\n",
        "    try:\n",
        "        with open(file_to_read, 'x') as f:\n",
        "            f.write(\"This is line 1.\\n\")\n",
        "            f.write(\"This is line 2.\\n\")\n",
        "            f.write(\"And this is line 3.\\n\")\n",
        "    except FileExistsError:\n",
        "        pass # File already exists, no need to create it again\n",
        "\n",
        "    print_file_contents(file_to_read)"
      ],
      "metadata": {
        "colab": {
          "base_uri": "https://localhost:8080/"
        },
        "id": "7RSU0aokIuvD",
        "outputId": "e57fa8ff-21af-4ee9-942c-ce7be0235b63"
      },
      "execution_count": null,
      "outputs": [
        {
          "output_type": "stream",
          "name": "stdout",
          "text": [
            "This is line 1.\n",
            "This is line 2.\n",
            "And this is line 3.\n"
          ]
        }
      ]
    },
    {
      "cell_type": "code",
      "source": [
        "# 3.How would you handle a case where the file doesn't exist while trying to open it for reading?\n",
        "#python\n",
        "# The name of the file we want to read\n",
        "file_name = \"example.txt\"\n",
        "\n",
        "# Use a try-except block to handle potential errors\n",
        "try:\n",
        "    # The `with` statement ensures the file is automatically closed\n",
        "    with open(file_name, 'r') as file:\n",
        "        content = file.read()\n",
        "        print(\"File content:\")\n",
        "        print(content)\n",
        "\n",
        "except FileNotFoundError:\n",
        "    # This code runs only if a FileNotFoundError is raised\n",
        "    print(f\"Error: The file '{file_name}' was not found.\")\n",
        "    print(\"Please check the file name and path.\")\n",
        "\n",
        "except Exception as e:\n",
        "    # This catches any other possible exceptions during file access\n",
        "    print(f\"An unexpected error occurred: {e}\")\n"
      ],
      "metadata": {
        "colab": {
          "base_uri": "https://localhost:8080/"
        },
        "id": "pLOJqCiPJNkR",
        "outputId": "a40a52e8-8c55-4189-c89b-07a27b53fdd6"
      },
      "execution_count": null,
      "outputs": [
        {
          "output_type": "stream",
          "name": "stdout",
          "text": [
            "Error: The file 'example.txt' was not found.\n",
            "Please check the file name and path.\n"
          ]
        }
      ]
    },
    {
      "cell_type": "code",
      "source": [
        "# 4. Write a python script that reads from one file and writes its content to another file.?\n",
        "#python\n",
        "# Define the input and output file names\n",
        "input_file_name = \"source.txt\"\n",
        "output_file_name = \"destination.txt\"\n",
        "\n",
        "try:\n",
        "    # Open the input file in read mode ('r')\n",
        "    with open(input_file_name, 'r') as infile:\n",
        "        # Read the entire content of the input file\n",
        "        content = infile.read()\n",
        "\n",
        "    # Open the output file in write mode ('w')\n",
        "    # If the file doesn't exist, it will be created.\n",
        "    # If it exists, its content will be overwritten.\n",
        "    with open(output_file_name, 'w') as outfile:\n",
        "        # Write the content to the output file\n",
        "        outfile.write(content)\n",
        "\n",
        "    print(f\"Content successfully copied from '{input_file_name}' to '{output_file_name}'.\")\n",
        "\n",
        "except FileNotFoundError:\n",
        "    print(f\"Error: The file '{input_file_name}' was not found.\")\n",
        "except Exception as e:\n",
        "    print(f\"An error occurred: {e}\")"
      ],
      "metadata": {
        "colab": {
          "base_uri": "https://localhost:8080/"
        },
        "id": "-2Xp_gVcJ45q",
        "outputId": "c5871341-3f08-4e25-d2ad-e42c8ec0c741"
      },
      "execution_count": null,
      "outputs": [
        {
          "output_type": "stream",
          "name": "stdout",
          "text": [
            "Error: The file 'source.txt' was not found.\n"
          ]
        }
      ]
    },
    {
      "cell_type": "code",
      "source": [
        "# 5.How would you catch and handle division by zero error in python?\n",
        "# python\n",
        "def safe_divide(numerator, denominator):\n",
        "    \"\"\"\n",
        "    Performs division and handles ZeroDivisionError.\n",
        "\n",
        "    Args:\n",
        "        numerator: The number to be divided.\n",
        "        denominator: The number to divide by.\n",
        "\n",
        "    Returns:\n",
        "        The result of the division if successful, or an error message.\n",
        "    \"\"\"\n",
        "    try:\n",
        "        result = numerator / denominator\n",
        "        return result\n",
        "    except ZeroDivisionError:\n",
        "        return \"Error: Cannot divide by zero.\"\n",
        "    except TypeError:\n",
        "        return \"Error: Invalid input. Please ensure both inputs are numbers.\"\n",
        "    except Exception as e:\n",
        "        return f\"An unexpected error occurred: {e}\"\n",
        "\n",
        "# Test cases\n",
        "print(f\"10 / 2 = {safe_divide(10, 2)}\")\n",
        "print(f\"10 / 0 = {safe_divide(10, 0)}\")\n",
        "print(f\"5 / 2.5 = {safe_divide(5, 2.5)}\")\n",
        "print(f\"7 / 'a' = {safe_divide(7, 'a')}\") # Example of another error type"
      ],
      "metadata": {
        "colab": {
          "base_uri": "https://localhost:8080/"
        },
        "id": "axbkmF7jKjd2",
        "outputId": "f83f4846-9a0a-4649-dd71-c2a303e287e7"
      },
      "execution_count": null,
      "outputs": [
        {
          "output_type": "stream",
          "name": "stdout",
          "text": [
            "10 / 2 = 5.0\n",
            "10 / 0 = Error: Cannot divide by zero.\n",
            "5 / 2.5 = 2.0\n",
            "7 / 'a' = Error: Invalid input. Please ensure both inputs are numbers.\n"
          ]
        }
      ]
    },
    {
      "cell_type": "code",
      "source": [
        "# 6. Write a python program that logs on error message to a log file when a division by zero exception occurs?\n",
        "#python\n",
        "import logging\n",
        "\n",
        "# Configure logging\n",
        "LOG_FILE = \"error_log.log\"\n",
        "logging.basicConfig(\n",
        "    filename=LOG_FILE,\n",
        "    level=logging.ERROR,  # Log messages with severity ERROR and above\n",
        "    format='%(asctime)s - %(levelname)s - %(message)s'\n",
        ")\n",
        "\n",
        "def divide_numbers(numerator, denominator):\n",
        "    \"\"\"\n",
        "    Divides two numbers and logs an error if a ZeroDivisionError occurs.\n",
        "    \"\"\"\n",
        "    try:\n",
        "        result = numerator / denominator\n",
        "        print(f\"The result of {numerator} / {denominator} is: {result}\")\n",
        "        return result\n",
        "    except ZeroDivisionError:\n",
        "        error_message = f\"Error: Attempted to divide {numerator} by zero.\"\n",
        "        logging.error(error_message)\n",
        "        print(error_message)\n",
        "        return None\n",
        "\n",
        "# Test cases\n",
        "print(\"--- Test Case 1: Valid Division ---\")\n",
        "divide_numbers(10, 2)\n",
        "\n",
        "print(\"\\n--- Test Case 2: Division by Zero ---\")\n",
        "divide_numbers(5, 0)\n",
        "\n",
        "print(\"\\n--- Test Case 3: Another Valid Division ---\")\n",
        "divide_numbers(20, 4)\n",
        "\n",
        "print(f\"\\nCheck '{LOG_FILE}' for error logs if any ZeroDivisionError occurred.\")"
      ],
      "metadata": {
        "colab": {
          "base_uri": "https://localhost:8080/"
        },
        "id": "MtilOtkvLLqz",
        "outputId": "7bee51f3-7d53-4fe8-88d5-f7b29e9a440f"
      },
      "execution_count": null,
      "outputs": [
        {
          "output_type": "stream",
          "name": "stderr",
          "text": [
            "ERROR:root:Error: Attempted to divide 5 by zero.\n"
          ]
        },
        {
          "output_type": "stream",
          "name": "stdout",
          "text": [
            "--- Test Case 1: Valid Division ---\n",
            "The result of 10 / 2 is: 5.0\n",
            "\n",
            "--- Test Case 2: Division by Zero ---\n",
            "Error: Attempted to divide 5 by zero.\n",
            "\n",
            "--- Test Case 3: Another Valid Division ---\n",
            "The result of 20 / 4 is: 5.0\n",
            "\n",
            "Check 'error_log.log' for error logs if any ZeroDivisionError occurred.\n"
          ]
        }
      ]
    },
    {
      "cell_type": "code",
      "source": [
        "# 7.How do you log information at different levels (INFO,ERROR,WARNING) in python using the logging module?\n",
        "#python\n",
        "import logging\n",
        "\n",
        "# Configure the logging system\n",
        "# basicConfig sets up a handler for the root logger.\n",
        "# It can only be called once effectively.\n",
        "# level=logging.INFO means it will capture INFO messages and above (WARNING, ERROR, CRITICAL).\n",
        "# format defines the output format of the log messages.\n",
        "logging.basicConfig(level=logging.INFO,\n",
        "                    format='%(asctime)s - %(levelname)s - %(message)s')\n",
        "\n",
        "# Get a logger instance (it's good practice to get a logger per module)\n",
        "logger = logging.getLogger(__name__)\n",
        "\n",
        "def perform_operation(value):\n",
        "    \"\"\"Simulates an operation that might produce different log levels.\"\"\"\n",
        "    if value < 0:\n",
        "        logger.error(\"Invalid input: Value cannot be negative. Received: %s\", value)\n",
        "        return None\n",
        "    elif value == 0:\n",
        "        logger.warning(\"Potential issue: Value is zero, which might lead to unexpected behavior.\")\n",
        "        return 0\n",
        "    else:\n",
        "        logger.info(\"Processing value: %s\", value)\n",
        "        return value * 2\n",
        "\n",
        "if __name__ == \"__main__\":\n",
        "    logger.info(\"Starting the application.\")\n",
        "\n",
        "    # Test with different values to trigger various log levels\n",
        "    result1 = perform_operation(10)\n",
        "    if result1 is not None:\n",
        "        logger.info(\"Result of operation with 10: %s\", result1)\n",
        "\n",
        "    result2 = perform_operation(0)\n",
        "    if result2 is not None:\n",
        "        logger.info(\"Result of operation with 0: %s\", result2)\n",
        "\n",
        "    result3 = perform_operation(-5)\n",
        "    if result3 is not None:\n",
        "        logger.info(\"Result of operation with -5: %s\", result3)\n",
        "\n",
        "    logger.info(\"Application finished.\")"
      ],
      "metadata": {
        "colab": {
          "base_uri": "https://localhost:8080/"
        },
        "id": "I1vVUf95L_LS",
        "outputId": "426a2d3f-2d41-4764-cae7-0573192eed06"
      },
      "execution_count": null,
      "outputs": [
        {
          "output_type": "stream",
          "name": "stderr",
          "text": [
            "WARNING:__main__:Potential issue: Value is zero, which might lead to unexpected behavior.\n",
            "ERROR:__main__:Invalid input: Value cannot be negative. Received: -5\n"
          ]
        }
      ]
    },
    {
      "cell_type": "code",
      "source": [
        "# 8.Write a program to handle a file opening error using exception handling.\n",
        "#python\n",
        "def open_and_read_file(filename):\n",
        "    \"\"\"\n",
        "    Attempts to open and read a file, handling FileNotFoundError.\n",
        "    \"\"\"\n",
        "    file_object = None  # Initialize file_object to None\n",
        "    try:\n",
        "        file_object = open(filename, 'r')  # Try to open the file in read mode\n",
        "        content = file_object.read()\n",
        "        print(f\"File '{filename}' content:\\n{content}\")\n",
        "    except FileNotFoundError:\n",
        "        print(f\"Error: The file '{filename}' was not found.\")\n",
        "    except IOError as e:  # Catch other potential I/O errors\n",
        "        print(f\"An I/O error occurred while accessing '{filename}': {e}\")\n",
        "    finally:\n",
        "        if file_object:  # Ensure file_object exists before trying to close\n",
        "            file_object.close()\n",
        "            print(f\"File '{filename}' has been closed.\")\n",
        "\n",
        "# --- Example Usage ---\n",
        "print(\"--- Attempting to open an existing file ---\")\n",
        "# Create a dummy file for testing\n",
        "with open(\"existing_file.txt\", \"w\") as f:\n",
        "    f.write(\"This is a test file.\")\n",
        "open_and_read_file(\"existing_file.txt\")\n",
        "\n",
        "print(\"\\n--- Attempting to open a non-existent file ---\")\n",
        "open_and_read_file(\"non_existent_file.txt\")\n",
        "\n",
        "print(\"\\n--- Attempting to open a file with permission issues (example) ---\")\n",
        "# This might not raise FileNotFoundError, but another IOError\n",
        "# For demonstration, we'll try to open a directory as a file, which can cause an error\n",
        "# On some systems, trying to open a directory as a file might raise IsADirectoryError,\n",
        "# which is a subclass of OSError, and therefore caught by IOError.\n",
        "import os\n",
        "if not os.path.exists(\"test_directory\"):\n",
        "    os.makedirs(\"test_directory\")\n",
        "open_and_read_file(\"test_directory\")"
      ],
      "metadata": {
        "colab": {
          "base_uri": "https://localhost:8080/"
        },
        "id": "w_0FNqufMuh2",
        "outputId": "6cdcb213-9f91-424b-f714-76025d54fe9c"
      },
      "execution_count": null,
      "outputs": [
        {
          "output_type": "stream",
          "name": "stdout",
          "text": [
            "--- Attempting to open an existing file ---\n",
            "File 'existing_file.txt' content:\n",
            "This is a test file.\n",
            "File 'existing_file.txt' has been closed.\n",
            "\n",
            "--- Attempting to open a non-existent file ---\n",
            "Error: The file 'non_existent_file.txt' was not found.\n",
            "\n",
            "--- Attempting to open a file with permission issues (example) ---\n",
            "An I/O error occurred while accessing 'test_directory': [Errno 21] Is a directory: 'test_directory'\n"
          ]
        }
      ]
    },
    {
      "cell_type": "code",
      "source": [
        "# 9.How can you read a file line by line and store  its content in a list in python?\n",
        "#python\n",
        "# Create a sample file for demonstration\n",
        "file_name = \"sample.txt\"\n",
        "with open(file_name, \"w\") as f:\n",
        "    f.write(\"This is the first line.\\n\")\n",
        "    f.write(\"This is the second line.\\n\")\n",
        "    f.write(\"And this is the third line.\\n\")\n",
        "\n",
        "# Method 1: Using readlines()\n",
        "print(\"--- Method 1: Using readlines() ---\")\n",
        "try:\n",
        "    with open(file_name, \"r\") as file:\n",
        "        lines_list_readlines = file.readlines()\n",
        "    print(f\"Content stored in list: {lines_list_readlines}\")\n",
        "except FileNotFoundError:\n",
        "    print(f\"Error: The file '{file_name}' was not found.\")\n",
        "\n",
        "# Method 2: Iterating through the file object (and stripping newline characters)\n",
        "print(\"\\n--- Method 2: Iterating through the file object ---\")\n",
        "try:\n",
        "    lines_list_iteration = []\n",
        "    with open(file_name, \"r\") as file:\n",
        "        for line in file:\n",
        "            lines_list_iteration.append(line.strip()) # .strip() removes leading/trailing whitespace, including newline characters\n",
        "    print(f\"Content stored in list (stripped): {lines_list_iteration}\")\n",
        "except FileNotFoundError:\n",
        "    print(f\"Error: The file '{file_name}' was not found.\")"
      ],
      "metadata": {
        "colab": {
          "base_uri": "https://localhost:8080/"
        },
        "id": "FDFjgTvSNS5V",
        "outputId": "f98bd8b4-b6dd-403a-8861-37fd1ceaa969"
      },
      "execution_count": null,
      "outputs": [
        {
          "output_type": "stream",
          "name": "stdout",
          "text": [
            "--- Method 1: Using readlines() ---\n",
            "Content stored in list: ['This is the first line.\\n', 'This is the second line.\\n', 'And this is the third line.\\n']\n",
            "\n",
            "--- Method 2: Iterating through the file object ---\n",
            "Content stored in list (stripped): ['This is the first line.', 'This is the second line.', 'And this is the third line.']\n"
          ]
        }
      ]
    },
    {
      "cell_type": "code",
      "source": [
        "# 10. How can you oppend data to an existing file in python?\n",
        "#python\n",
        "def append_to_file(filename, data_to_append):\n",
        "    \"\"\"\n",
        "    Appends the given data to the specified file.\n",
        "\n",
        "    Args:\n",
        "        filename (str): The name of the file to append to.\n",
        "        data_to_append (str): The string data to add to the file.\n",
        "    \"\"\"\n",
        "    try:\n",
        "        with open(filename, 'a') as file:\n",
        "            file.write(data_to_append)\n",
        "        print(f\"Successfully appended data to '{filename}'.\")\n",
        "    except IOError as e:\n",
        "        print(f\"Error appending to file '{filename}': {e}\")\n",
        "\n",
        "# Example Usage:\n",
        "\n",
        "# 1. Create a file with some initial content (if it doesn't exist)\n",
        "initial_filename = \"my_document.txt\"\n",
        "initial_content = \"This is the initial content of the file.\\n\"\n",
        "try:\n",
        "    with open(initial_filename, 'w') as file:\n",
        "        file.write(initial_content)\n",
        "    print(f\"Created '{initial_filename}' with initial content.\")\n",
        "except IOError as e:\n",
        "    print(f\"Error creating file '{initial_filename}': {e}\")\n",
        "\n",
        "# 2. Append new data to the file\n",
        "new_data = \"This is some new data appended to the file.\\n\"\n",
        "append_to_file(initial_filename, new_data)\n",
        "\n",
        "# 3. Append more data, including a new line character for formatting\n",
        "more_data = \"Another line of text added later.\\n\"\n",
        "append_to_file(initial_filename, more_data)\n",
        "\n",
        "# 4. Read the file to verify the appended content\n",
        "print(\"\\nContent of the file after appending:\")\n",
        "try:\n",
        "    with open(initial_filename, 'r') as file:\n",
        "        content = file.read()\n",
        "        print(content)\n",
        "except IOError as e:\n",
        "    print(f\"Error reading file '{initial_filename}': {e}\")"
      ],
      "metadata": {
        "colab": {
          "base_uri": "https://localhost:8080/"
        },
        "id": "YBqaHofpNzNZ",
        "outputId": "d99c70d1-272c-410a-908e-9704ba3d6339"
      },
      "execution_count": null,
      "outputs": [
        {
          "output_type": "stream",
          "name": "stdout",
          "text": [
            "Created 'my_document.txt' with initial content.\n",
            "Successfully appended data to 'my_document.txt'.\n",
            "Successfully appended data to 'my_document.txt'.\n",
            "\n",
            "Content of the file after appending:\n",
            "This is the initial content of the file.\n",
            "This is some new data appended to the file.\n",
            "Another line of text added later.\n",
            "\n"
          ]
        }
      ]
    },
    {
      "cell_type": "code",
      "source": [
        "# 11.write a python program that uses a try except block to handle an error when attempting to access a dictionary key that doesn't exist?\n",
        "#python\n",
        "def get_value_from_dictionary(dictionary, key):\n",
        "    \"\"\"\n",
        "    Attempts to retrieve a value from a dictionary using a given key.\n",
        "    Handles KeyError if the key does not exist.\n",
        "    \"\"\"\n",
        "    try:\n",
        "        value = dictionary[key]\n",
        "        print(f\"The value for key '{key}' is: {value}\")\n",
        "    except KeyError:\n",
        "        print(f\"Error: The key '{key}' does not exist in the dictionary.\")\n",
        "    except Exception as e:  # Catch any other unexpected errors\n",
        "        print(f\"An unexpected error occurred: {e}\")\n",
        "\n",
        "# Example usage:\n",
        "my_dict = {\"name\": \"Alice\", \"age\": 30, \"city\": \"New York\"}\n",
        "\n",
        "print(\"--- Attempting to access existing key ---\")\n",
        "get_value_from_dictionary(my_dict, \"name\")\n",
        "\n",
        "print(\"\\n--- Attempting to access non-existent key ---\")\n",
        "get_value_from_dictionary(my_dict, \"occupation\")\n",
        "\n",
        "print(\"\\n--- Attempting to access another non-existent key ---\")\n",
        "get_value_from_dictionary(my_dict, \"country\")"
      ],
      "metadata": {
        "colab": {
          "base_uri": "https://localhost:8080/"
        },
        "id": "Ta1-g5KOO-0H",
        "outputId": "49b91daf-7102-4052-c5bf-c7827334b26a"
      },
      "execution_count": null,
      "outputs": [
        {
          "output_type": "stream",
          "name": "stdout",
          "text": [
            "--- Attempting to access existing key ---\n",
            "The value for key 'name' is: Alice\n",
            "\n",
            "--- Attempting to access non-existent key ---\n",
            "Error: The key 'occupation' does not exist in the dictionary.\n",
            "\n",
            "--- Attempting to access another non-existent key ---\n",
            "Error: The key 'country' does not exist in the dictionary.\n"
          ]
        }
      ]
    },
    {
      "cell_type": "code",
      "source": [
        "# 12. write a program that demonstrates using multiple except blocks to handle different types of exceptions?\n",
        "#python\n",
        "def handle_multiple_exceptions():\n",
        "    \"\"\"\n",
        "    Demonstrates handling different types of exceptions using multiple except blocks.\n",
        "    \"\"\"\n",
        "    try:\n",
        "        user_input = input(\"Enter a number: \")\n",
        "        num = int(user_input)  # May raise ValueError\n",
        "        result = 10 / num      # May raise ZeroDivisionError\n",
        "\n",
        "        my_list = [1, 2, 3]\n",
        "        print(my_list[num])    # May raise IndexError\n",
        "\n",
        "    except ValueError:\n",
        "        print(\"Error: Invalid input. Please enter a valid integer.\")\n",
        "    except ZeroDivisionError:\n",
        "        print(\"Error: Cannot divide by zero.\")\n",
        "    except IndexError:\n",
        "        print(\"Error: Index out of bounds for the list.\")\n",
        "    except Exception as e:  # Generic exception handler for any other unexpected errors\n",
        "        print(f\"An unexpected error occurred: {e}\")\n",
        "    else:\n",
        "        print(f\"Successfully processed the number: {num}\")\n",
        "        print(f\"Result of division: {result}\")\n",
        "        print(f\"Element at index {num}: {my_list[num]}\")\n",
        "    finally:\n",
        "        print(\"Exception handling demonstration complete.\")\n",
        "\n",
        "# Test cases\n",
        "print(\"--- Test Case 1: Valid Input ---\")\n",
        "handle_multiple_exceptions()\n",
        "\n",
        "print(\"\\n--- Test Case 2: Invalid Integer Input (ValueError) ---\")\n",
        "handle_multiple_exceptions()\n",
        "\n",
        "print(\"\\n--- Test Case 3: Zero Input (ZeroDivisionError) ---\")\n",
        "handle_multiple_exceptions()\n",
        "\n",
        "print(\"\\n--- Test Case 4: Index Out of Bounds (IndexError) ---\")\n",
        "handle_multiple_exceptions()"
      ],
      "metadata": {
        "colab": {
          "base_uri": "https://localhost:8080/",
          "height": 582
        },
        "id": "7tq6h0XzPukz",
        "outputId": "a681a14c-98b8-4f56-e761-b5ad43623cd3"
      },
      "execution_count": null,
      "outputs": [
        {
          "output_type": "stream",
          "name": "stdout",
          "text": [
            "--- Test Case 1: Valid Input ---\n",
            "Error: Index out of bounds for the list.\n",
            "Exception handling demonstration complete.\n",
            "\n",
            "--- Test Case 2: Invalid Integer Input (ValueError) ---\n",
            "Error: Index out of bounds for the list.\n",
            "Exception handling demonstration complete.\n",
            "\n",
            "--- Test Case 3: Zero Input (ZeroDivisionError) ---\n",
            "Enter a number: 10\n",
            "Error: Index out of bounds for the list.\n",
            "Exception handling demonstration complete.\n",
            "\n",
            "--- Test Case 4: Index Out of Bounds (IndexError) ---\n",
            "Exception handling demonstration complete.\n"
          ]
        },
        {
          "output_type": "error",
          "ename": "KeyboardInterrupt",
          "evalue": "Interrupted by user",
          "traceback": [
            "\u001b[0;31m---------------------------------------------------------------------------\u001b[0m",
            "\u001b[0;31mKeyboardInterrupt\u001b[0m                         Traceback (most recent call last)",
            "\u001b[0;32m/tmp/ipython-input-2124573641.py\u001b[0m in \u001b[0;36m<cell line: 0>\u001b[0;34m()\u001b[0m\n\u001b[1;32m     39\u001b[0m \u001b[0;34m\u001b[0m\u001b[0m\n\u001b[1;32m     40\u001b[0m \u001b[0mprint\u001b[0m\u001b[0;34m(\u001b[0m\u001b[0;34m\"\\n--- Test Case 4: Index Out of Bounds (IndexError) ---\"\u001b[0m\u001b[0;34m)\u001b[0m\u001b[0;34m\u001b[0m\u001b[0;34m\u001b[0m\u001b[0m\n\u001b[0;32m---> 41\u001b[0;31m \u001b[0mhandle_multiple_exceptions\u001b[0m\u001b[0;34m(\u001b[0m\u001b[0;34m)\u001b[0m\u001b[0;34m\u001b[0m\u001b[0;34m\u001b[0m\u001b[0m\n\u001b[0m",
            "\u001b[0;32m/tmp/ipython-input-2124573641.py\u001b[0m in \u001b[0;36mhandle_multiple_exceptions\u001b[0;34m()\u001b[0m\n\u001b[1;32m      6\u001b[0m     \"\"\"\n\u001b[1;32m      7\u001b[0m     \u001b[0;32mtry\u001b[0m\u001b[0;34m:\u001b[0m\u001b[0;34m\u001b[0m\u001b[0;34m\u001b[0m\u001b[0m\n\u001b[0;32m----> 8\u001b[0;31m         \u001b[0muser_input\u001b[0m \u001b[0;34m=\u001b[0m \u001b[0minput\u001b[0m\u001b[0;34m(\u001b[0m\u001b[0;34m\"Enter a number: \"\u001b[0m\u001b[0;34m)\u001b[0m\u001b[0;34m\u001b[0m\u001b[0;34m\u001b[0m\u001b[0m\n\u001b[0m\u001b[1;32m      9\u001b[0m         \u001b[0mnum\u001b[0m \u001b[0;34m=\u001b[0m \u001b[0mint\u001b[0m\u001b[0;34m(\u001b[0m\u001b[0muser_input\u001b[0m\u001b[0;34m)\u001b[0m  \u001b[0;31m# May raise ValueError\u001b[0m\u001b[0;34m\u001b[0m\u001b[0;34m\u001b[0m\u001b[0m\n\u001b[1;32m     10\u001b[0m         \u001b[0mresult\u001b[0m \u001b[0;34m=\u001b[0m \u001b[0;36m10\u001b[0m \u001b[0;34m/\u001b[0m \u001b[0mnum\u001b[0m      \u001b[0;31m# May raise ZeroDivisionError\u001b[0m\u001b[0;34m\u001b[0m\u001b[0;34m\u001b[0m\u001b[0m\n",
            "\u001b[0;32m/usr/local/lib/python3.12/dist-packages/ipykernel/kernelbase.py\u001b[0m in \u001b[0;36mraw_input\u001b[0;34m(self, prompt)\u001b[0m\n\u001b[1;32m   1175\u001b[0m                 \u001b[0;34m\"raw_input was called, but this frontend does not support input requests.\"\u001b[0m\u001b[0;34m\u001b[0m\u001b[0;34m\u001b[0m\u001b[0m\n\u001b[1;32m   1176\u001b[0m             )\n\u001b[0;32m-> 1177\u001b[0;31m         return self._input_request(\n\u001b[0m\u001b[1;32m   1178\u001b[0m             \u001b[0mstr\u001b[0m\u001b[0;34m(\u001b[0m\u001b[0mprompt\u001b[0m\u001b[0;34m)\u001b[0m\u001b[0;34m,\u001b[0m\u001b[0;34m\u001b[0m\u001b[0;34m\u001b[0m\u001b[0m\n\u001b[1;32m   1179\u001b[0m             \u001b[0mself\u001b[0m\u001b[0;34m.\u001b[0m\u001b[0m_parent_ident\u001b[0m\u001b[0;34m[\u001b[0m\u001b[0;34m\"shell\"\u001b[0m\u001b[0;34m]\u001b[0m\u001b[0;34m,\u001b[0m\u001b[0;34m\u001b[0m\u001b[0;34m\u001b[0m\u001b[0m\n",
            "\u001b[0;32m/usr/local/lib/python3.12/dist-packages/ipykernel/kernelbase.py\u001b[0m in \u001b[0;36m_input_request\u001b[0;34m(self, prompt, ident, parent, password)\u001b[0m\n\u001b[1;32m   1217\u001b[0m             \u001b[0;32mexcept\u001b[0m \u001b[0mKeyboardInterrupt\u001b[0m\u001b[0;34m:\u001b[0m\u001b[0;34m\u001b[0m\u001b[0;34m\u001b[0m\u001b[0m\n\u001b[1;32m   1218\u001b[0m                 \u001b[0;31m# re-raise KeyboardInterrupt, to truncate traceback\u001b[0m\u001b[0;34m\u001b[0m\u001b[0;34m\u001b[0m\u001b[0m\n\u001b[0;32m-> 1219\u001b[0;31m                 \u001b[0;32mraise\u001b[0m \u001b[0mKeyboardInterrupt\u001b[0m\u001b[0;34m(\u001b[0m\u001b[0;34m\"Interrupted by user\"\u001b[0m\u001b[0;34m)\u001b[0m \u001b[0;32mfrom\u001b[0m \u001b[0;32mNone\u001b[0m\u001b[0;34m\u001b[0m\u001b[0;34m\u001b[0m\u001b[0m\n\u001b[0m\u001b[1;32m   1220\u001b[0m             \u001b[0;32mexcept\u001b[0m \u001b[0mException\u001b[0m\u001b[0;34m:\u001b[0m\u001b[0;34m\u001b[0m\u001b[0;34m\u001b[0m\u001b[0m\n\u001b[1;32m   1221\u001b[0m                 \u001b[0mself\u001b[0m\u001b[0;34m.\u001b[0m\u001b[0mlog\u001b[0m\u001b[0;34m.\u001b[0m\u001b[0mwarning\u001b[0m\u001b[0;34m(\u001b[0m\u001b[0;34m\"Invalid Message:\"\u001b[0m\u001b[0;34m,\u001b[0m \u001b[0mexc_info\u001b[0m\u001b[0;34m=\u001b[0m\u001b[0;32mTrue\u001b[0m\u001b[0;34m)\u001b[0m\u001b[0;34m\u001b[0m\u001b[0;34m\u001b[0m\u001b[0m\n",
            "\u001b[0;31mKeyboardInterrupt\u001b[0m: Interrupted by user"
          ]
        }
      ]
    },
    {
      "cell_type": "code",
      "source": [
        "# 13.How would you check if a file exists before attempting to read it in python?\n",
        "#python\n",
        "import os\n",
        "from pathlib import Path\n",
        "\n",
        "def read_file_if_exists_os_path(filepath):\n",
        "    \"\"\"Checks for file existence using os.path.isfile() and reads the file.\"\"\"\n",
        "    if os.path.isfile(filepath):\n",
        "        try:\n",
        "            with open(filepath, 'r') as file:\n",
        "                content = file.read()\n",
        "                print(f\"Content of '{filepath}':\\n{content}\")\n",
        "        except IOError as e:\n",
        "            print(f\"Error reading file '{filepath}': {e}\")\n",
        "    else:\n",
        "        print(f\"File '{filepath}' does not exist.\")\n",
        "\n",
        "def read_file_if_exists_pathlib(filepath):\n",
        "    \"\"\"Checks for file existence using Path.is_file() and reads the file.\"\"\"\n",
        "    path_obj = Path(filepath)\n",
        "    if path_obj.is_file():\n",
        "        try:\n",
        "            with open(path_obj, 'r') as file:\n",
        "                content = file.read()\n",
        "                print(f\"Content of '{filepath}':\\n{content}\")\n",
        "        except IOError as e:\n",
        "            print(f\"Error reading file '{filepath}': {e}\")\n",
        "    else:\n",
        "        print(f\"File '{filepath}' does not exist.\")\n",
        "\n",
        "# Example usage:\n",
        "file_to_check_exists = \"example.txt\"\n",
        "file_to_check_not_exists = \"non_existent_file.txt\"\n",
        "\n",
        "# Create a dummy file for testing\n",
        "with open(file_to_check_exists, 'w') as f:\n",
        "    f.write(\"This is a test file content.\\nLine 2 of the test file.\")\n",
        "\n",
        "print(\"--- Using os.path.isfile() ---\")\n",
        "read_file_if_exists_os_path(file_to_check_exists)\n",
        "read_file_if_exists_os_path(file_to_check_not_exists)\n",
        "\n",
        "print(\"\\n--- Using pathlib.Path.is_file() ---\")\n",
        "read_file_if_exists_pathlib(file_to_check_exists)\n",
        "read_file_if_exists_pathlib(file_to_check_not_exists)\n",
        "\n",
        "# Clean up the dummy file\n",
        "os.remove(file_to_check_exists)"
      ],
      "metadata": {
        "colab": {
          "base_uri": "https://localhost:8080/"
        },
        "id": "NfjJlRl3RjLi",
        "outputId": "21013b02-0e47-4cff-ce6e-1ade3bd2d76d"
      },
      "execution_count": null,
      "outputs": [
        {
          "output_type": "stream",
          "name": "stdout",
          "text": [
            "--- Using os.path.isfile() ---\n",
            "Content of 'example.txt':\n",
            "This is a test file content.\n",
            "Line 2 of the test file.\n",
            "File 'non_existent_file.txt' does not exist.\n",
            "\n",
            "--- Using pathlib.Path.is_file() ---\n",
            "Content of 'example.txt':\n",
            "This is a test file content.\n",
            "Line 2 of the test file.\n",
            "File 'non_existent_file.txt' does not exist.\n"
          ]
        }
      ]
    },
    {
      "cell_type": "code",
      "source": [
        "# 14. Write a program that uses the logging module to log both informational and error messages?\n",
        "#python\n",
        "import logging\n",
        "\n",
        "def setup_logger():\n",
        "    \"\"\"\n",
        "    Configures a logger to output informational messages to a file and\n",
        "    error messages to both the file and the console.\n",
        "    \"\"\"\n",
        "    logger = logging.getLogger(__name__)\n",
        "    logger.setLevel(logging.INFO)  # Set the overall logging level\n",
        "\n",
        "    # Create a file handler for logging to a file\n",
        "    file_handler = logging.FileHandler('app.log')\n",
        "    file_handler.setLevel(logging.INFO)  # Log INFO and above to the file\n",
        "\n",
        "    # Create a console handler for logging errors to the console\n",
        "    console_handler = logging.StreamHandler()\n",
        "    console_handler.setLevel(logging.ERROR)  # Log ERROR and above to the console\n",
        "\n",
        "    # Define a formatter for the log messages\n",
        "    formatter = logging.Formatter('%(asctime)s - %(name)s - %(levelname)s - %(message)s')\n",
        "\n",
        "    # Set the formatter for both handlers\n",
        "    file_handler.setFormatter(formatter)\n",
        "    console_handler.setFormatter(formatter)\n",
        "\n",
        "    # Add the handlers to the logger\n",
        "    logger.addHandler(file_handler)\n",
        "    logger.addHandler(console_handler)\n",
        "\n",
        "    return logger\n",
        "\n",
        "def main():\n",
        "    \"\"\"\n",
        "    Main function to demonstrate logging informational and error messages.\n",
        "    \"\"\"\n",
        "    logger = setup_logger()\n",
        "\n",
        "    logger.info(\"This is an informational message. The application is starting.\")\n",
        "\n",
        "    try:\n",
        "        result = 10 / 0  # This will cause a ZeroDivisionError\n",
        "    except ZeroDivisionError as e:\n",
        "        logger.error(f\"An error occurred: {e}\", exc_info=True) # Log the error with traceback\n",
        "\n",
        "    logger.info(\"Application finished processing.\")\n",
        "\n",
        "if __name__ == \"__main__\":\n",
        "    main()"
      ],
      "metadata": {
        "colab": {
          "base_uri": "https://localhost:8080/"
        },
        "id": "MJCdfl33SPSf",
        "outputId": "00df5256-cc0a-485b-a2de-5069c591d055"
      },
      "execution_count": null,
      "outputs": [
        {
          "output_type": "stream",
          "name": "stderr",
          "text": [
            "INFO:__main__:This is an informational message. The application is starting.\n",
            "2025-10-15 00:36:29,577 - __main__ - ERROR - An error occurred: division by zero\n",
            "Traceback (most recent call last):\n",
            "  File \"/tmp/ipython-input-1392582548.py\", line 43, in main\n",
            "    result = 10 / 0  # This will cause a ZeroDivisionError\n",
            "             ~~~^~~\n",
            "ZeroDivisionError: division by zero\n",
            "ERROR:__main__:An error occurred: division by zero\n",
            "Traceback (most recent call last):\n",
            "  File \"/tmp/ipython-input-1392582548.py\", line 43, in main\n",
            "    result = 10 / 0  # This will cause a ZeroDivisionError\n",
            "             ~~~^~~\n",
            "ZeroDivisionError: division by zero\n",
            "INFO:__main__:Application finished processing.\n"
          ]
        }
      ]
    },
    {
      "cell_type": "code",
      "source": [
        "#15.Write a python program that prints the content of a file and handles the case when the file is empty?\n",
        "#python\n",
        "def print_file_content(filename):\n",
        "    \"\"\"\n",
        "    Prints the content of a specified file.\n",
        "    Handles FileNotFoundError and checks for empty files.\n",
        "    \"\"\"\n",
        "    try:\n",
        "        with open(filename, 'r') as file:\n",
        "            content = file.read()\n",
        "            if not content:  # Check if the content is empty\n",
        "                print(f\"The file '{filename}' is empty.\")\n",
        "            else:\n",
        "                print(f\"Content of '{filename}':\")\n",
        "                print(content)\n",
        "    except FileNotFoundError:\n",
        "        print(f\"Error: The file '{filename}' was not found.\")\n",
        "    except Exception as e:\n",
        "        print(f\"An unexpected error occurred: {e}\")\n",
        "\n",
        "# Example usage:\n",
        "# Create a sample file (you can replace this with your actual file)\n",
        "with open(\"sample.txt\", \"w\") as f:\n",
        "    f.write(\"This is a line of text.\\n\")\n",
        "    f.write(\"Another line.\")\n",
        "\n",
        "# Create an empty file\n",
        "with open(\"empty.txt\", \"w\") as f:\n",
        "    pass  # This creates an empty file\n",
        "\n",
        "print_file_content(\"sample.txt\")\n",
        "print(\"-\" * 30)\n",
        "print_file_content(\"empty.txt\")\n",
        "print(\"-\" * 30)\n",
        "print_file_content(\"non_existent_file.txt\")"
      ],
      "metadata": {
        "colab": {
          "base_uri": "https://localhost:8080/"
        },
        "id": "RyjSVpgkTBel",
        "outputId": "4ccee480-668c-4dce-d44b-c22aa34f4dd6"
      },
      "execution_count": null,
      "outputs": [
        {
          "output_type": "stream",
          "name": "stdout",
          "text": [
            "Content of 'sample.txt':\n",
            "This is a line of text.\n",
            "Another line.\n",
            "------------------------------\n",
            "The file 'empty.txt' is empty.\n",
            "------------------------------\n",
            "Error: The file 'non_existent_file.txt' was not found.\n"
          ]
        }
      ]
    },
    {
      "cell_type": "code",
      "source": [
        "# 16.Demonstrate how to use memory profiling to check the memory usage of a small program?\n",
        "#python\n",
        "from memory_profiler import profile\n",
        "\n",
        "@profile\n",
        "def allocate_memory_example():\n",
        "    \"\"\"\n",
        "    A simple function to demonstrate memory allocation.\n",
        "    \"\"\"\n",
        "    a = [i for i in range(1000000)]  # Allocates memory for a large list\n",
        "    b = {'key': 'value' * 10000}    # Allocates memory for a dictionary with a long string\n",
        "    c = \"This is a long string that will take up some memory.\" * 100\n",
        "    print(\"Memory allocated within the function.\")\n",
        "    # The variables 'a', 'b', and 'c' will be deallocated when the function exits.\n",
        "\n",
        "if __name__ == \"__main__\":\n",
        "    print(\"Starting memory profiling example...\")\n",
        "    allocate_memory_example()\n",
        "    print(\"Finished memory profiling example.\")"
      ],
      "metadata": {
        "colab": {
          "base_uri": "https://localhost:8080/",
          "height": 383
        },
        "id": "HldsgKQcTmOT",
        "outputId": "cf91325e-0154-48c4-d03a-d35d788be5f1"
      },
      "execution_count": null,
      "outputs": [
        {
          "output_type": "error",
          "ename": "ModuleNotFoundError",
          "evalue": "No module named 'memory_profiler'",
          "traceback": [
            "\u001b[0;31m---------------------------------------------------------------------------\u001b[0m",
            "\u001b[0;31mModuleNotFoundError\u001b[0m                       Traceback (most recent call last)",
            "\u001b[0;32m/tmp/ipython-input-3936030850.py\u001b[0m in \u001b[0;36m<cell line: 0>\u001b[0;34m()\u001b[0m\n\u001b[1;32m      1\u001b[0m \u001b[0;31m# 16.Demonstrate how to use memory profiling to check the memory usage of a small program?\u001b[0m\u001b[0;34m\u001b[0m\u001b[0;34m\u001b[0m\u001b[0m\n\u001b[1;32m      2\u001b[0m \u001b[0;31m#python\u001b[0m\u001b[0;34m\u001b[0m\u001b[0;34m\u001b[0m\u001b[0m\n\u001b[0;32m----> 3\u001b[0;31m \u001b[0;32mfrom\u001b[0m \u001b[0mmemory_profiler\u001b[0m \u001b[0;32mimport\u001b[0m \u001b[0mprofile\u001b[0m\u001b[0;34m\u001b[0m\u001b[0;34m\u001b[0m\u001b[0m\n\u001b[0m\u001b[1;32m      4\u001b[0m \u001b[0;34m\u001b[0m\u001b[0m\n\u001b[1;32m      5\u001b[0m \u001b[0;34m@\u001b[0m\u001b[0mprofile\u001b[0m\u001b[0;34m\u001b[0m\u001b[0;34m\u001b[0m\u001b[0m\n",
            "\u001b[0;31mModuleNotFoundError\u001b[0m: No module named 'memory_profiler'",
            "",
            "\u001b[0;31m---------------------------------------------------------------------------\u001b[0;32m\nNOTE: If your import is failing due to a missing package, you can\nmanually install dependencies using either !pip or !apt.\n\nTo view examples of installing some common dependencies, click the\n\"Open Examples\" button below.\n\u001b[0;31m---------------------------------------------------------------------------\u001b[0m\n"
          ],
          "errorDetails": {
            "actions": [
              {
                "action": "open_url",
                "actionText": "Open Examples",
                "url": "/notebooks/snippets/importing_libraries.ipynb"
              }
            ]
          }
        }
      ]
    },
    {
      "cell_type": "code",
      "source": [
        "# 17. Write a python program to create and write a list of numbers to a file one number per line?\n",
        "#python\n",
        "def write_numbers_to_file(numbers_list, filename=\"numbers.txt\"):\n",
        "    \"\"\"\n",
        "    Writes a list of numbers to a specified file, with each number on a new line.\n",
        "\n",
        "    Args:\n",
        "        numbers_list (list): A list containing numbers (integers or floats).\n",
        "        filename (str): The name of the file to write to. Defaults to \"numbers.txt\".\n",
        "    \"\"\"\n",
        "    try:\n",
        "        with open(filename, 'w') as file:\n",
        "            for number in numbers_list:\n",
        "                file.write(str(number) + '\\n')\n",
        "        print(f\"Numbers successfully written to {filename}\")\n",
        "    except IOError as e:\n",
        "        print(f\"Error writing to file {filename}: {e}\")\n",
        "\n",
        "# Example usage:\n",
        "my_numbers = [10, 25, 3.14, 42, 100.5]\n",
        "write_numbers_to_file(my_numbers, \"my_numbers_output.txt\")\n",
        "\n",
        "# You can also use a range to generate numbers\n",
        "sequential_numbers = list(range(1, 11)) # Numbers from 1 to 10\n",
        "write_numbers_to_file(sequential_numbers, \"sequential_numbers.txt\")"
      ],
      "metadata": {
        "colab": {
          "base_uri": "https://localhost:8080/"
        },
        "id": "RTIXo0o_Uwdf",
        "outputId": "5f3bb512-3e97-466d-aa47-1af48581c1b1"
      },
      "execution_count": null,
      "outputs": [
        {
          "output_type": "stream",
          "name": "stdout",
          "text": [
            "Numbers successfully written to my_numbers_output.txt\n",
            "Numbers successfully written to sequential_numbers.txt\n"
          ]
        }
      ]
    },
    {
      "cell_type": "code",
      "source": [
        "# 18.How would you implement a basic logging setup that logs to a file with rotation after 1MB?\n",
        "#python\n",
        "import logging\n",
        "from logging.handlers import RotatingFileHandler\n",
        "import os\n",
        "\n",
        "# Define log file name and rotation parameters\n",
        "LOG_FILE = \"application.log\"\n",
        "MAX_BYTES = 1 * 1024 * 1024  # 1 MB\n",
        "BACKUP_COUNT = 5  # Keep 5 backup log files\n",
        "\n",
        "# Create a logger instance\n",
        "logger = logging.getLogger(__name__)\n",
        "logger.setLevel(logging.INFO)  # Set the minimum logging level\n",
        "\n",
        "# Create a RotatingFileHandler\n",
        "# This handler will write logs to LOG_FILE and rotate it when it reaches MAX_BYTES\n",
        "# It will keep BACKUP_COUNT older log files (e.g., application.log.1, application.log.2, etc.)\n",
        "handler = RotatingFileHandler(LOG_FILE, maxBytes=MAX_BYTES, backupCount=BACKUP_COUNT)\n",
        "\n",
        "# Define a formatter for the log messages\n",
        "formatter = logging.Formatter('%(asctime)s - %(name)s - %(levelname)s - %(message)s')\n",
        "\n",
        "# Set the formatter for the handler\n",
        "handler.setFormatter(formatter)\n",
        "\n",
        "# Add the handler to the logger\n",
        "logger.addHandler(handler)\n",
        "\n",
        "# --- Example Usage ---\n",
        "if __name__ == \"__main__\":\n",
        "    logger.info(\"This is an informational message.\")\n",
        "    logger.warning(\"This is a warning message.\")\n",
        "    logger.error(\"This is an error message.\")\n",
        "\n",
        "    # Simulate writing enough data to trigger rotation\n",
        "    for i in range(20000):  # Adjust this range based on your message size to trigger rotation\n",
        "        logger.info(f\"Log message number {i}: This is a long message to fill up the log file and trigger rotation.\")\n",
        "\n",
        "    logger.info(\"Logging complete. Check 'application.log' and its rotated backups.\")"
      ],
      "metadata": {
        "id": "n_Ii8OtRWViq"
      },
      "execution_count": null,
      "outputs": []
    },
    {
      "cell_type": "code",
      "source": [
        "# 19.Write a program that handles both indexError  and keyError using a try-except block?\n",
        "def handle_errors(data, index_to_access, key_to_access):\n",
        "    \"\"\"\n",
        "    Attempts to access an element in a list by index and a value in a dictionary by key,\n",
        "    handling IndexError and KeyError respectively.\n",
        "\n",
        "    Args:\n",
        "        data (list or dict): The data structure to access.\n",
        "        index_to_access (int): The index to attempt to access in a list.\n",
        "        key_to_access (str): The key to attempt to access in a dictionary.\n",
        "    \"\"\"\n",
        "    try:\n",
        "        if isinstance(data, list):\n",
        "            value = data[index_to_access]\n",
        "            print(f\"Accessed list element at index {index_to_access}: {value}\")\n",
        "        elif isinstance(data, dict):\n",
        "            value = data[key_to_access]\n",
        "            print(f\"Accessed dictionary value for key '{key_to_access}': {value}\")\n",
        "        else:\n",
        "            print(\"Unsupported data type. Please provide a list or a dictionary.\")\n",
        "\n",
        "    except IndexError:\n",
        "        print(f\"Error: IndexError occurred! Index {index_to_access} is out of range for the list.\")\n",
        "    except KeyError:\n",
        "        print(f\"Error: KeyError occurred! Key '{key_to_access}' not found in the dictionary.\")\n",
        "    except Exception as e:\n",
        "        print(f\"An unexpected error occurred: {e}\")\n",
        "\n",
        "# Example Usage:\n",
        "\n",
        "# Handling IndexError\n",
        "my_list = [10, 20, 30]\n",
        "print(\"\\n--- Testing IndexError ---\")\n",
        "handle_errors(my_list, 1, \"non_existent_key\") # Valid index\n",
        "handle_errors(my_list, 5, \"non_existent_key\") # Invalid index\n",
        "\n",
        "# Handling KeyError\n",
        "my_dict = {\"name\": \"Alice\", \"age\": 30}\n",
        "print(\"\\n--- Testing KeyError ---\")\n",
        "handle_errors(my_dict, 0, \"name\")       # Valid key\n",
        "handle_errors(my_dict, 0, \"city\")       # Invalid key\n",
        "\n",
        "# Handling both (if the data type changes or is unknown)\n",
        "print(\"\\n--- Testing with mixed scenarios ---\")\n",
        "handle_errors([1, 2], 3, \"test\") # IndexError\n",
        "handle_errors({\"a\": 1}, 0, \"b\")  # KeyError"
      ],
      "metadata": {
        "colab": {
          "base_uri": "https://localhost:8080/"
        },
        "id": "aGtJH4WiWU1S",
        "outputId": "3437b2b2-33b1-4498-c147-52d569c05fb7"
      },
      "execution_count": null,
      "outputs": [
        {
          "output_type": "stream",
          "name": "stdout",
          "text": [
            "\n",
            "--- Testing IndexError ---\n",
            "Accessed list element at index 1: 20\n",
            "Error: IndexError occurred! Index 5 is out of range for the list.\n",
            "\n",
            "--- Testing KeyError ---\n",
            "Accessed dictionary value for key 'name': Alice\n",
            "Error: KeyError occurred! Key 'city' not found in the dictionary.\n",
            "\n",
            "--- Testing with mixed scenarios ---\n",
            "Error: IndexError occurred! Index 3 is out of range for the list.\n",
            "Error: KeyError occurred! Key 'b' not found in the dictionary.\n"
          ]
        }
      ]
    },
    {
      "cell_type": "code",
      "source": [
        "# 20. How would you open a file and read  its contents using a context manager in python?\n",
        "#python\n",
        "# Create a sample file for demonstration\n",
        "try:\n",
        "    with open(\"sample.txt\", \"w\") as f:\n",
        "        f.write(\"This is the first line.\\n\")\n",
        "        f.write(\"This is the second line.\\n\")\n",
        "        f.write(\"And this is the third line.\")\n",
        "except IOError as e:\n",
        "    print(f\"Error creating sample file: {e}\")\n",
        "\n",
        "# Open and read the file using a context manager\n",
        "try:\n",
        "    with open(\"sample.txt\", \"r\") as file:\n",
        "        content = file.read()\n",
        "        print(\"Contents of the file:\")\n",
        "        print(content)\n",
        "except FileNotFoundError:\n",
        "    print(\"Error: The file 'sample.txt' was not found.\")\n",
        "except IOError as e:\n",
        "    print(f\"Error reading file: {e}\")\n",
        "\n",
        "# You can also read line by line\n",
        "try:\n",
        "    with open(\"sample.txt\", \"r\") as file:\n",
        "        print(\"\\nContents of the file (line by line):\")\n",
        "        for line in file:\n",
        "            print(line.strip()) # .strip() removes leading/trailing whitespace, including newline characters\n",
        "except FileNotFoundError:\n",
        "    print(\"Error: The file 'sample.txt' was not found.\")\n",
        "except IOError as e:\n",
        "    print(f\"Error reading file line by line: {e}\")"
      ],
      "metadata": {
        "colab": {
          "base_uri": "https://localhost:8080/"
        },
        "id": "0gJ-A0fTXbf2",
        "outputId": "232e6e6e-5bf7-447c-9699-41da4b444eae"
      },
      "execution_count": null,
      "outputs": [
        {
          "output_type": "stream",
          "name": "stdout",
          "text": [
            "Contents of the file:\n",
            "This is the first line.\n",
            "This is the second line.\n",
            "And this is the third line.\n",
            "\n",
            "Contents of the file (line by line):\n",
            "This is the first line.\n",
            "This is the second line.\n",
            "And this is the third line.\n"
          ]
        }
      ]
    },
    {
      "cell_type": "code",
      "source": [
        "# 21. Write a python program that reads a file and prints the number of occurrences of a specific word?\n",
        "# python\n",
        "def count_word_occurrences(filename, target_word):\n",
        "    \"\"\"\n",
        "    Reads a text file and counts the occurrences of a specific word.\n",
        "\n",
        "    Args:\n",
        "        filename (str): The path to the text file.\n",
        "        target_word (str): The word to search for.\n",
        "\n",
        "    Returns:\n",
        "        int: The number of times the target_word appears in the file.\n",
        "    \"\"\"\n",
        "    count = 0\n",
        "    try:\n",
        "        with open(filename, 'r', encoding='utf-8') as file:\n",
        "            for line in file:\n",
        "                # Convert the line to lowercase for case-insensitive counting\n",
        "                # and split it into words, removing punctuation if desired.\n",
        "                words = line.lower().replace('.', '').replace(',', '').split()\n",
        "                for word in words:\n",
        "                    if word == target_word.lower():\n",
        "                        count += 1\n",
        "    except FileNotFoundError:\n",
        "        print(f\"Error: File '{filename}' not found.\")\n",
        "        return -1  # Indicate an error\n",
        "    except Exception as e:\n",
        "        print(f\"An unexpected error occurred: {e}\")\n",
        "        return -1\n",
        "    return count\n",
        "\n",
        "if __name__ == \"__main__\":\n",
        "    file_to_analyze = input(\"Enter the name of the file: \")\n",
        "    word_to_find = input(\"Enter the word to count: \")\n",
        "\n",
        "    occurrences = count_word_occurrences(file_to_analyze, word_to_find)\n",
        "\n",
        "    if occurrences != -1:\n",
        "        print(f\"The word '{word_to_find}' appears {occurrences} times in '{file_to_analyze}'.\")"
      ],
      "metadata": {
        "colab": {
          "base_uri": "https://localhost:8080/"
        },
        "id": "j4K2zNKsX-Bc",
        "outputId": "25cdcb1c-7250-4263-8f92-c545acdc7ccf"
      },
      "execution_count": null,
      "outputs": [
        {
          "output_type": "stream",
          "name": "stdout",
          "text": [
            "Enter the name of the file: oops\n",
            "Enter the word to count: 12\n",
            "Error: File 'oops' not found.\n"
          ]
        }
      ]
    },
    {
      "cell_type": "code",
      "source": [
        "# 22.How can you check if a file is empty before attempting to read its contents?\n",
        "#python\n",
        "import os\n",
        "\n",
        "def is_file_empty(file_path):\n",
        "    \"\"\"\n",
        "    Checks if a file exists and is empty.\n",
        "\n",
        "    Args:\n",
        "        file_path (str): The path to the file.\n",
        "\n",
        "    Returns:\n",
        "        bool: True if the file is empty or does not exist, False otherwise.\n",
        "    \"\"\"\n",
        "    if not os.path.exists(file_path):\n",
        "        print(f\"Warning: File '{file_path}' does not exist.\")\n",
        "        return True  # Treat non-existent files as empty for safety\n",
        "\n",
        "    if os.path.getsize(file_path) == 0:\n",
        "        return True\n",
        "    else:\n",
        "        return False\n",
        "\n",
        "# Example usage:\n",
        "file_to_check = \"my_document.txt\"\n",
        "\n",
        "# Create an empty file for demonstration\n",
        "with open(file_to_check, 'w') as f:\n",
        "    pass # Creates an empty file\n",
        "\n",
        "if is_file_empty(file_to_check):\n",
        "    print(f\"The file '{file_to_check}' is empty. Not attempting to read.\")\n",
        "else:\n",
        "    print(f\"The file '{file_to_check}' is not empty. Reading its contents...\")\n",
        "    try:\n",
        "        with open(file_to_check, 'r') as f:\n",
        "            content = f.read()\n",
        "            print(\"File content:\")\n",
        "            print(content)\n",
        "    except Exception as e:\n",
        "        print(f\"Error reading file: {e}\")\n",
        "\n",
        "# Create a non-empty file for demonstration\n",
        "file_with_content = \"another_document.txt\"\n",
        "with open(file_with_content, 'w') as f:\n",
        "    f.write(\"This is some content.\")\n",
        "\n",
        "if is_file_empty(file_with_content):\n",
        "    print(f\"The file '{file_with_content}' is empty. Not attempting to read.\")\n",
        "else:\n",
        "    print(f\"The file '{file_with_content}' is not empty. Reading its contents...\")\n",
        "    try:\n",
        "        with open(file_with_content, 'r') as f:\n",
        "            content = f.read()\n",
        "            print(\"File content:\")\n",
        "            print(content)\n",
        "    except Exception as e:\n",
        "        print(f\"Error reading file: {e}\")\n",
        "\n",
        "# Clean up demonstration files\n",
        "os.remove(file_to_check)\n",
        "os.remove(file_with_content)"
      ],
      "metadata": {
        "id": "DI3f9nr-Yqkx",
        "colab": {
          "base_uri": "https://localhost:8080/"
        },
        "outputId": "f7eb2d3d-5fdb-4fe6-ee71-bc8fb9338603"
      },
      "execution_count": 29,
      "outputs": [
        {
          "output_type": "stream",
          "name": "stdout",
          "text": [
            "The file 'my_document.txt' is empty. Not attempting to read.\n",
            "The file 'another_document.txt' is not empty. Reading its contents...\n",
            "File content:\n",
            "This is some content.\n"
          ]
        }
      ]
    },
    {
      "cell_type": "code",
      "source": [
        "#23.write a python that writes to a log file when on error occurs during file handling?\n",
        "#python\n",
        "import logging\n",
        "import os\n",
        "\n",
        "# Configure the logger\n",
        "# Sets up a basic configuration for logging:\n",
        "# - filename: The log file where messages will be written.\n",
        "# - level: The minimum severity level of messages to be logged (ERROR in this case).\n",
        "# - format: Defines the structure of each log message, including timestamp, level, and message.\n",
        "logging.basicConfig(\n",
        "    filename='file_handling_errors.log',\n",
        "    level=logging.ERROR,\n",
        "    format='%(asctime)s - %(levelname)s - %(message)s'\n",
        ")\n",
        "\n",
        "def handle_file_operation(file_path, mode, content=None):\n",
        "    \"\"\"\n",
        "    Attempts a file operation (read or write) and logs any errors encountered.\n",
        "\n",
        "    Args:\n",
        "        file_path (str): The path to the file.\n",
        "        mode (str): The file opening mode ('r' for read, 'w' for write, 'a' for append).\n",
        "        content (str, optional): Content to write to the file if in write or append mode.\n",
        "    \"\"\"\n",
        "    try:\n",
        "        if mode == 'w' or mode == 'a':\n",
        "            with open(file_path, mode) as f:\n",
        "                if content:\n",
        "                    f.write(content)\n",
        "            logging.info(f\"Successfully wrote to file: {file_path}\")\n",
        "        elif mode == 'r':\n",
        "            with open(file_path, mode) as f:\n",
        "                data = f.read()\n",
        "            logging.info(f\"Successfully read from file: {file_path}. Content: {data[:50]}...\") # Log first 50 chars\n",
        "        else:\n",
        "            logging.error(f\"Invalid file mode provided: {mode}\")\n",
        "\n",
        "    except FileNotFoundError:\n",
        "        logging.error(f\"FileNotFoundError: The file '{file_path}' was not found.\", exc_info=True)\n",
        "    except PermissionError:\n",
        "        logging.error(f\"PermissionError: Insufficient permissions to access '{file_path}'.\", exc_info=True)\n",
        "    except IOError as e:\n",
        "        logging.error(f\"IOError: An I/O error occurred with '{file_path}': {e}\", exc_info=True)\n",
        "    except Exception as e:\n",
        "        logging.error(f\"An unexpected error occurred during file handling: {e}\", exc_info=True)\n",
        "\n",
        "if __name__ == \"__main__\":\n",
        "    # Example usage:\n",
        "\n",
        "    # 1. Attempt to write to a file (success)\n",
        "    handle_file_operation(\"successful_write.txt\", \"w\", \"This is a test message.\")\n",
        "\n",
        "    # 2. Attempt to read from a non-existent file (FileNotFoundError)\n",
        "    handle_file_operation(\"non_existent_file.txt\", \"r\")\n",
        "\n",
        "    # 3. Attempt to write to a protected location (PermissionError - might need to adjust path for your OS)\n",
        "    # On some systems, trying to write to the root directory or system directories will raise PermissionError.\n",
        "    # For demonstration, we'll try to write to a non-writable path if possible.\n",
        "    # You might need to change \"/root/protected_file.txt\" to a path that causes a PermissionError on your system.\n",
        "    # On Linux, trying to write to \"/\" might cause a PermissionError.\n",
        "    protected_file_path = \"restricted_dir/protected_file.txt\"\n",
        "    restricted_dir_path = \"restricted_dir\"\n",
        "    try:\n",
        "        # Create a dummy directory with restricted permissions for testing PermissionError\n",
        "        os.makedirs(restricted_dir_path, mode=0o000, exist_ok=True)\n",
        "        handle_file_operation(protected_file_path, \"w\", \"Attempting to write.\")\n",
        "    except OSError as e:\n",
        "        logging.warning(f\"Could not create {restricted_dir_path} for PermissionError test: {e}\")\n",
        "    finally:\n",
        "        # Clean up the restricted directory and the file inside it if they were created\n",
        "        if os.path.exists(protected_file_path):\n",
        "            os.remove(protected_file_path)\n",
        "        if os.path.exists(restricted_dir_path):\n",
        "            os.rmdir(restricted_dir_path)\n",
        "\n",
        "    # 4. Attempt an invalid file mode\n",
        "    handle_file_operation(\"some_file.txt\", \"x\") # 'x' is not a valid mode for this function"
      ],
      "metadata": {
        "colab": {
          "base_uri": "https://localhost:8080/"
        },
        "id": "2yOP3u8ybTQM",
        "outputId": "ac9c64bb-14e4-4151-944e-db15d387f930"
      },
      "execution_count": 31,
      "outputs": [
        {
          "output_type": "stream",
          "name": "stderr",
          "text": [
            "ERROR:root:FileNotFoundError: The file 'non_existent_file.txt' was not found.\n",
            "Traceback (most recent call last):\n",
            "  File \"/tmp/ipython-input-4259649637.py\", line 33, in handle_file_operation\n",
            "    with open(file_path, mode) as f:\n",
            "         ^^^^^^^^^^^^^^^^^^^^^\n",
            "FileNotFoundError: [Errno 2] No such file or directory: 'non_existent_file.txt'\n",
            "ERROR:root:Invalid file mode provided: x\n"
          ]
        }
      ]
    }
  ]
}